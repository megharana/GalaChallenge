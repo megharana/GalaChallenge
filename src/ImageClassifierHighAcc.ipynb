{
 "cells": [
  {
   "cell_type": "code",
   "execution_count": 1,
   "metadata": {},
   "outputs": [],
   "source": [
    "import os\n",
    "import pandas as pd\n",
    "import numpy as np\n",
    "import seaborn as sns\n",
    "import cv2\n",
    "from tqdm import tqdm\n",
    "import matplotlib.pyplot as plt"
   ]
  },
  {
   "cell_type": "code",
   "execution_count": 2,
   "metadata": {},
   "outputs": [
    {
     "data": {
      "text/html": [
       "<div>\n",
       "<style scoped>\n",
       "    .dataframe tbody tr th:only-of-type {\n",
       "        vertical-align: middle;\n",
       "    }\n",
       "\n",
       "    .dataframe tbody tr th {\n",
       "        vertical-align: top;\n",
       "    }\n",
       "\n",
       "    .dataframe thead th {\n",
       "        text-align: right;\n",
       "    }\n",
       "</style>\n",
       "<table border=\"1\" class=\"dataframe\">\n",
       "  <thead>\n",
       "    <tr style=\"text-align: right;\">\n",
       "      <th></th>\n",
       "      <th>Image</th>\n",
       "      <th>Class</th>\n",
       "    </tr>\n",
       "  </thead>\n",
       "  <tbody>\n",
       "    <tr>\n",
       "      <th>0</th>\n",
       "      <td>image7042.jpg</td>\n",
       "      <td>Food</td>\n",
       "    </tr>\n",
       "    <tr>\n",
       "      <th>1</th>\n",
       "      <td>image3327.jpg</td>\n",
       "      <td>misc</td>\n",
       "    </tr>\n",
       "    <tr>\n",
       "      <th>2</th>\n",
       "      <td>image10335.jpg</td>\n",
       "      <td>Attire</td>\n",
       "    </tr>\n",
       "    <tr>\n",
       "      <th>3</th>\n",
       "      <td>image8019.jpg</td>\n",
       "      <td>Food</td>\n",
       "    </tr>\n",
       "    <tr>\n",
       "      <th>4</th>\n",
       "      <td>image2128.jpg</td>\n",
       "      <td>Attire</td>\n",
       "    </tr>\n",
       "  </tbody>\n",
       "</table>\n",
       "</div>"
      ],
      "text/plain": [
       "            Image   Class\n",
       "0   image7042.jpg    Food\n",
       "1   image3327.jpg    misc\n",
       "2  image10335.jpg  Attire\n",
       "3   image8019.jpg    Food\n",
       "4   image2128.jpg  Attire"
      ]
     },
     "execution_count": 2,
     "metadata": {},
     "output_type": "execute_result"
    }
   ],
   "source": [
    "train=pd.read_csv('../dataset/train.csv')\n",
    "test=pd.read_csv('../dataset/test.csv')\n",
    "train.head()"
   ]
  },
  {
   "cell_type": "code",
   "execution_count": 3,
   "metadata": {},
   "outputs": [],
   "source": [
    "#Enumerating classes\n",
    "\n",
    "Class_map={'Food':0,'Attire':1,'Decorationandsignage':2,'misc':3}\n",
    "inverse_map={0:'Food',1:'Attire',2:'Decorationandsignage',3:'misc'}\n",
    "train['Class']=train['Class'].map(Class_map)"
   ]
  },
  {
   "cell_type": "code",
   "execution_count": 4,
   "metadata": {},
   "outputs": [
    {
     "name": "stderr",
     "output_type": "stream",
     "text": [
      "100%|██████████| 5983/5983 [00:15<00:00, 397.53it/s]\n"
     ]
    }
   ],
   "source": [
    "train_img=[]\n",
    "train_label=[]\n",
    "j=0\n",
    "path='../dataset/TrainImages'\n",
    "for i in tqdm(train['Image']):\n",
    "    final_path=os.path.join(path,i)\n",
    "    img=cv2.imread(final_path)\n",
    "    img=cv2.resize(img,(150,150))\n",
    "    img=img.astype('float32')\n",
    "    train_img.append(img)\n",
    "    train_label.append(train['Class'][j])\n",
    "    j=j+1"
   ]
  },
  {
   "cell_type": "code",
   "execution_count": 5,
   "metadata": {},
   "outputs": [],
   "source": [
    "from tensorflow.keras.preprocessing.image import ImageDataGenerator\n",
    "datagen = ImageDataGenerator(\n",
    "        featurewise_center=False,  # set input mean to 0 over the dataset\n",
    "        samplewise_center=False,  # set each sample mean to 0\n",
    "        featurewise_std_normalization=False,  # divide inputs by std of the dataset\n",
    "        samplewise_std_normalization=False,  # divide each input by its std\n",
    "        zca_whitening=False,  # apply ZCA whitening\n",
    "        rotation_range=10,  # randomly rotate images in the range (degrees, 0 to 180)\n",
    "        zoom_range = 0.1, # Randomly zoom image \n",
    "        width_shift_range=0.2,  # randomly shift images horizontally (fraction of total width)\n",
    "        height_shift_range=0.2,  # randomly shift images vertically (fraction of total height)\n",
    "        horizontal_flip=True,  # randomly flip images\n",
    "        vertical_flip=False)  # randomly flip images\n",
    "\n",
    "\n",
    "datagen.fit(train_img)"
   ]
  },
  {
   "cell_type": "code",
   "execution_count": 7,
   "metadata": {},
   "outputs": [
    {
     "name": "stderr",
     "output_type": "stream",
     "text": [
      "100%|██████████| 3219/3219 [00:07<00:00, 426.35it/s]\n"
     ]
    }
   ],
   "source": [
    "test_img=[]\n",
    "path='../dataset/TestImages'\n",
    "for i in tqdm(test['Image']):\n",
    "    final_path=os.path.join(path,i)\n",
    "    img=cv2.imread(final_path)\n",
    "    img=cv2.resize(img,(150,150))\n",
    "    img=img.astype('float32')\n",
    "    test_img.append(img)"
   ]
  },
  {
   "cell_type": "code",
   "execution_count": null,
   "metadata": {},
   "outputs": [],
   "source": [
    "datagen.fit(test_img)"
   ]
  },
  {
   "cell_type": "code",
   "execution_count": 8,
   "metadata": {},
   "outputs": [],
   "source": [
    "train_img=np.array(train_img)\n",
    "test_img=np.array(test_img)\n",
    "train_label=np.array(train_label)"
   ]
  },
  {
   "cell_type": "code",
   "execution_count": 15,
   "metadata": {},
   "outputs": [
    {
     "data": {
      "text/plain": [
       "(5983, 150, 150, 3)"
      ]
     },
     "execution_count": 15,
     "metadata": {},
     "output_type": "execute_result"
    }
   ],
   "source": [
    "train_img.shape"
   ]
  },
  {
   "cell_type": "code",
   "execution_count": 9,
   "metadata": {},
   "outputs": [],
   "source": [
    "from tensorflow.keras.applications.vgg16 import VGG16\n",
    "\n",
    "from tensorflow.keras.layers import Flatten,Dense,Dropout,BatchNormalization\n",
    "from tensorflow.keras.models import Model,Sequential\n",
    "from tensorflow.keras.utils import to_categorical\n",
    "from tensorflow.keras.layers import Conv2D, MaxPooling2D, BatchNormalization\n",
    "\n",
    "from tensorflow.keras.callbacks import ReduceLROnPlateau"
   ]
  },
  {
   "cell_type": "code",
   "execution_count": 21,
   "metadata": {},
   "outputs": [
    {
     "name": "stdout",
     "output_type": "stream",
     "text": [
      "WARNING:tensorflow:sample_weight modes were coerced from\n",
      "  ...\n",
      "    to  \n",
      "  ['...']\n",
      "Train for 94 steps\n",
      "Epoch 1/10\n",
      "94/94 [==============================] - 792s 8s/step - loss: 1.8787 - accuracy: 0.6209\n",
      "Epoch 2/10\n",
      "94/94 [==============================] - 688s 7s/step - loss: 0.8841 - accuracy: 0.7251\n",
      "Epoch 3/10\n",
      "94/94 [==============================] - 680s 7s/step - loss: 0.6797 - accuracy: 0.7491\n",
      "Epoch 4/10\n",
      "94/94 [==============================] - 683s 7s/step - loss: 0.5782 - accuracy: 0.7901\n",
      "Epoch 5/10\n",
      "94/94 [==============================] - 742s 8s/step - loss: 0.5176 - accuracy: 0.8011\n",
      "Epoch 6/10\n",
      "94/94 [==============================] - 772s 8s/step - loss: 0.4634 - accuracy: 0.8230\n",
      "Epoch 7/10\n",
      "94/94 [==============================] - 1210s 13s/step - loss: 0.4318 - accuracy: 0.8345\n",
      "Epoch 8/10\n",
      "94/94 [==============================] - 1079s 11s/step - loss: 0.3741 - accuracy: 0.8504\n",
      "Epoch 9/10\n",
      "94/94 [==============================] - 694s 7s/step - loss: 0.3644 - accuracy: 0.8603\n",
      "Epoch 10/10\n",
      "94/94 [==============================] - 729s 8s/step - loss: 0.3460 - accuracy: 0.8624\n"
     ]
    },
    {
     "data": {
      "text/plain": [
       "<tensorflow.python.keras.callbacks.History at 0x1354ee710>"
      ]
     },
     "execution_count": 21,
     "metadata": {},
     "output_type": "execute_result"
    }
   ],
   "source": [
    "base_model=VGG16(include_top=False, weights='imagenet',input_shape=(150,150,3), pooling='avg')\n",
    "\n",
    "model=Sequential()\n",
    "model.add(base_model)\n",
    "\n",
    "model.add(Dense(256,activation='relu'))\n",
    "model.add(Dense(4,activation='softmax'))\n",
    "\n",
    "\n",
    "from tensorflow.keras.optimizers import Adam,SGD,Adagrad,Adadelta,RMSprop\n",
    "\n",
    "base_model.trainable=False\n",
    "\n",
    "reduce_learning_rate = ReduceLROnPlateau(monitor='loss',\n",
    "                                         factor=0.1,\n",
    "                                         patience=2,\n",
    "                                         cooldown=2,\n",
    "                                         min_lr=0.00001,\n",
    "                                         verbose=1)\n",
    "\n",
    "callbacks = [reduce_learning_rate]\n",
    "    \n",
    "\n",
    "\n",
    "model.compile( optimizer='adam',loss='categorical_crossentropy',metrics=['accuracy'])\n",
    "model.fit_generator(datagen.flow(train_img, to_categorical(train_label,4), batch_size=64),\n",
    "                    epochs=10,callbacks=callbacks)"
   ]
  },
  {
   "cell_type": "code",
   "execution_count": 22,
   "metadata": {},
   "outputs": [
    {
     "name": "stdout",
     "output_type": "stream",
     "text": [
      "[[9.6416938e-01 7.1623549e-03 1.6608264e-03 2.7007455e-02]\n",
      " [7.2797936e-01 6.7317002e-03 1.8740208e-04 2.6510161e-01]\n",
      " [9.2613506e-01 1.0038233e-11 1.0566367e-12 7.3864929e-02]\n",
      " [9.9990976e-01 3.8648414e-11 1.0973141e-09 9.0257323e-05]]\n",
      "['Food', 'Food', 'Food']\n"
     ]
    },
    {
     "data": {
      "text/html": [
       "<div>\n",
       "<style scoped>\n",
       "    .dataframe tbody tr th:only-of-type {\n",
       "        vertical-align: middle;\n",
       "    }\n",
       "\n",
       "    .dataframe tbody tr th {\n",
       "        vertical-align: top;\n",
       "    }\n",
       "\n",
       "    .dataframe thead th {\n",
       "        text-align: right;\n",
       "    }\n",
       "</style>\n",
       "<table border=\"1\" class=\"dataframe\">\n",
       "  <thead>\n",
       "    <tr style=\"text-align: right;\">\n",
       "      <th></th>\n",
       "      <th>Image</th>\n",
       "      <th>Class</th>\n",
       "    </tr>\n",
       "  </thead>\n",
       "  <tbody>\n",
       "    <tr>\n",
       "      <th>0</th>\n",
       "      <td>image6245.jpg</td>\n",
       "      <td>Food</td>\n",
       "    </tr>\n",
       "    <tr>\n",
       "      <th>1</th>\n",
       "      <td>image10409.jpg</td>\n",
       "      <td>Food</td>\n",
       "    </tr>\n",
       "    <tr>\n",
       "      <th>2</th>\n",
       "      <td>image8692.jpg</td>\n",
       "      <td>Food</td>\n",
       "    </tr>\n",
       "    <tr>\n",
       "      <th>3</th>\n",
       "      <td>image10517.jpg</td>\n",
       "      <td>Food</td>\n",
       "    </tr>\n",
       "    <tr>\n",
       "      <th>4</th>\n",
       "      <td>image2580.jpg</td>\n",
       "      <td>Attire</td>\n",
       "    </tr>\n",
       "    <tr>\n",
       "      <th>5</th>\n",
       "      <td>image848.jpg</td>\n",
       "      <td>Attire</td>\n",
       "    </tr>\n",
       "    <tr>\n",
       "      <th>6</th>\n",
       "      <td>image1232.jpg</td>\n",
       "      <td>Attire</td>\n",
       "    </tr>\n",
       "    <tr>\n",
       "      <th>7</th>\n",
       "      <td>image8386.jpg</td>\n",
       "      <td>misc</td>\n",
       "    </tr>\n",
       "    <tr>\n",
       "      <th>8</th>\n",
       "      <td>image9828.jpg</td>\n",
       "      <td>misc</td>\n",
       "    </tr>\n",
       "    <tr>\n",
       "      <th>9</th>\n",
       "      <td>image9033.jpg</td>\n",
       "      <td>Attire</td>\n",
       "    </tr>\n",
       "  </tbody>\n",
       "</table>\n",
       "</div>"
      ],
      "text/plain": [
       "            Image   Class\n",
       "0   image6245.jpg    Food\n",
       "1  image10409.jpg    Food\n",
       "2   image8692.jpg    Food\n",
       "3  image10517.jpg    Food\n",
       "4   image2580.jpg  Attire\n",
       "5    image848.jpg  Attire\n",
       "6   image1232.jpg  Attire\n",
       "7   image8386.jpg    misc\n",
       "8   image9828.jpg    misc\n",
       "9   image9033.jpg  Attire"
      ]
     },
     "execution_count": 22,
     "metadata": {},
     "output_type": "execute_result"
    }
   ],
   "source": [
    "labels = model.predict(test_img)\n",
    "print(labels[:4])\n",
    "label = [np.argmax(i) for i in labels]\n",
    "class_label = [inverse_map[x] for x in label]\n",
    "print(class_label[:3])\n",
    "submission = pd.DataFrame({ 'Image': test.Image, 'Class': class_label })\n",
    "submission.head(10)\n",
    "# submission.to_csv('Users/megharana/Downloads/dataset/testHighAcc.csv', index=False)\n"
   ]
  },
  {
   "cell_type": "code",
   "execution_count": 23,
   "metadata": {},
   "outputs": [
    {
     "data": {
      "text/html": [
       "<div>\n",
       "<style scoped>\n",
       "    .dataframe tbody tr th:only-of-type {\n",
       "        vertical-align: middle;\n",
       "    }\n",
       "\n",
       "    .dataframe tbody tr th {\n",
       "        vertical-align: top;\n",
       "    }\n",
       "\n",
       "    .dataframe thead th {\n",
       "        text-align: right;\n",
       "    }\n",
       "</style>\n",
       "<table border=\"1\" class=\"dataframe\">\n",
       "  <thead>\n",
       "    <tr style=\"text-align: right;\">\n",
       "      <th></th>\n",
       "      <th>Image</th>\n",
       "      <th>Class</th>\n",
       "    </tr>\n",
       "  </thead>\n",
       "  <tbody>\n",
       "    <tr>\n",
       "      <th>0</th>\n",
       "      <td>image6245.jpg</td>\n",
       "      <td>Food</td>\n",
       "    </tr>\n",
       "    <tr>\n",
       "      <th>1</th>\n",
       "      <td>image10409.jpg</td>\n",
       "      <td>Food</td>\n",
       "    </tr>\n",
       "    <tr>\n",
       "      <th>2</th>\n",
       "      <td>image8692.jpg</td>\n",
       "      <td>Food</td>\n",
       "    </tr>\n",
       "    <tr>\n",
       "      <th>3</th>\n",
       "      <td>image10517.jpg</td>\n",
       "      <td>Food</td>\n",
       "    </tr>\n",
       "    <tr>\n",
       "      <th>4</th>\n",
       "      <td>image2580.jpg</td>\n",
       "      <td>Attire</td>\n",
       "    </tr>\n",
       "    <tr>\n",
       "      <th>...</th>\n",
       "      <td>...</td>\n",
       "      <td>...</td>\n",
       "    </tr>\n",
       "    <tr>\n",
       "      <th>3214</th>\n",
       "      <td>image4968.jpg</td>\n",
       "      <td>Attire</td>\n",
       "    </tr>\n",
       "    <tr>\n",
       "      <th>3215</th>\n",
       "      <td>image6673.jpg</td>\n",
       "      <td>Food</td>\n",
       "    </tr>\n",
       "    <tr>\n",
       "      <th>3216</th>\n",
       "      <td>image3442.jpg</td>\n",
       "      <td>misc</td>\n",
       "    </tr>\n",
       "    <tr>\n",
       "      <th>3217</th>\n",
       "      <td>image8178.jpg</td>\n",
       "      <td>misc</td>\n",
       "    </tr>\n",
       "    <tr>\n",
       "      <th>3218</th>\n",
       "      <td>image5367.jpg</td>\n",
       "      <td>misc</td>\n",
       "    </tr>\n",
       "  </tbody>\n",
       "</table>\n",
       "<p>3219 rows × 2 columns</p>\n",
       "</div>"
      ],
      "text/plain": [
       "               Image   Class\n",
       "0      image6245.jpg    Food\n",
       "1     image10409.jpg    Food\n",
       "2      image8692.jpg    Food\n",
       "3     image10517.jpg    Food\n",
       "4      image2580.jpg  Attire\n",
       "...              ...     ...\n",
       "3214   image4968.jpg  Attire\n",
       "3215   image6673.jpg    Food\n",
       "3216   image3442.jpg    misc\n",
       "3217   image8178.jpg    misc\n",
       "3218   image5367.jpg    misc\n",
       "\n",
       "[3219 rows x 2 columns]"
      ]
     },
     "execution_count": 23,
     "metadata": {},
     "output_type": "execute_result"
    }
   ],
   "source": [
    "submission"
   ]
  },
  {
   "cell_type": "code",
   "execution_count": 25,
   "metadata": {},
   "outputs": [],
   "source": [
    "submission.to_csv('/Users/megharana/Downloads/dataset/test5.csv', index=False)"
   ]
  },
  {
   "cell_type": "code",
   "execution_count": null,
   "metadata": {},
   "outputs": [],
   "source": []
  }
 ],
 "metadata": {
  "kernelspec": {
   "display_name": "Python 3",
   "language": "python",
   "name": "python3"
  },
  "language_info": {
   "codemirror_mode": {
    "name": "ipython",
    "version": 3
   },
   "file_extension": ".py",
   "mimetype": "text/x-python",
   "name": "python",
   "nbconvert_exporter": "python",
   "pygments_lexer": "ipython3",
   "version": "3.7.0"
  }
 },
 "nbformat": 4,
 "nbformat_minor": 4
}